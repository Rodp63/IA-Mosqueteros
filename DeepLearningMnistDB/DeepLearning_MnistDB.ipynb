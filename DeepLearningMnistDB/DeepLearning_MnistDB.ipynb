{
  "nbformat": 4,
  "nbformat_minor": 0,
  "metadata": {
    "colab": {
      "name": "DeepLearning_MnistDB.ipynb",
      "provenance": [],
      "collapsed_sections": [],
      "authorship_tag": "ABX9TyNcnjK3kQdFkMJNadH9ukDV"
    },
    "kernelspec": {
      "name": "python3",
      "display_name": "Python 3"
    },
    "language_info": {
      "name": "python"
    },
    "accelerator": "GPU"
  },
  "cells": [
    {
      "cell_type": "code",
      "metadata": {
        "id": "lQ9colUloUBl"
      },
      "source": [
        "import os\n",
        "import matplotlib.pyplot as plt\n",
        "import pandas as pd\n",
        "import numpy as np\n",
        "import tensorflow as tf\n",
        "import random\n",
        "\n",
        "DATA_URL = 'https://storage.googleapis.com/tensorflow/tf-keras-datasets/mnist.npz'\n",
        "\n",
        "path = tf.keras.utils.get_file('mnist.npz', DATA_URL)\n",
        "with np.load(path) as data:\n",
        "  train_examples = data['x_train']\n",
        "  train_labels = data['y_train']\n",
        "  test_examples = data['x_test']\n",
        "  test_labels = data['y_test']\n",
        "\n",
        "# Copies to final test\n",
        "train_examples1 = train_examples\n",
        "train_labels1 = train_labels\n",
        "test_examples1 = test_examples\n",
        "test_labels1 = test_labels\n"
      ],
      "execution_count": 2,
      "outputs": []
    },
    {
      "cell_type": "code",
      "metadata": {
        "id": "w-LxNfQj2Kp7"
      },
      "source": [
        "# print(\"train_examples shape\", train_examples.shape)\n",
        "# print(\"train_labels shape\", train_labels.shape)\n",
        "# print(\"test_examples shape\", test_examples.shape)\n",
        "# print(\"test_labels shape\", test_labels.shape)"
      ],
      "execution_count": 3,
      "outputs": []
    },
    {
      "cell_type": "code",
      "metadata": {
        "colab": {
          "base_uri": "https://localhost:8080/",
          "height": 248
        },
        "id": "vY5D8rMdGwDK",
        "outputId": "00c0dbcc-e124-468a-a4b1-be6ecfa3a8fb"
      },
      "source": [
        "# Looking some pictures inside dataset\n",
        "\n",
        "for i in range(12):\n",
        "    sp = plt.subplot(3,4,i+1)\n",
        "    sp.axis('Off')\n",
        "    num = random.randint(0, len(train_examples))\n",
        "    plt.imshow(train_examples[num], cmap='magma', interpolation='none')"
      ],
      "execution_count": 4,
      "outputs": [
        {
          "output_type": "display_data",
          "data": {
            "image/png": "[encoded data removed]",
            "text/plain": [
              "<Figure size 432x288 with 12 Axes>"
            ]
          },
          "metadata": {
            "tags": [],
            "needs_background": "light"
          }
        }
      ]
    },
    {
      "cell_type": "code",
      "metadata": {
        "id": "mSwp3OIjQfpF"
      },
      "source": [
        "# Before normalization\n",
        "\n",
        "# train_examples[0][18]"
      ],
      "execution_count": 5,
      "outputs": []
    },
    {
      "cell_type": "code",
      "metadata": {
        "id": "ifiLQBcnMw3L"
      },
      "source": [
        "# Normalizing digits\n",
        "\n",
        "train_examples= train_examples.reshape(train_examples.shape[0], 28, 28, 1)\n",
        "train_examples = train_examples.astype('float32')\n",
        "train_examples/=255\n",
        "test_examples = test_examples.reshape(test_examples.shape[0],28,28,1)\n",
        "test_examples = test_examples.astype('float32')\n",
        "test_examples/=255\n",
        "# print(train_examples.shape)\n",
        "# print(test_examples.shape)"
      ],
      "execution_count": 6,
      "outputs": []
    },
    {
      "cell_type": "code",
      "metadata": {
        "id": "RTWZf9R7jX3u"
      },
      "source": [
        "# After normalization\n",
        "\n",
        "# train_examples[0][18]"
      ],
      "execution_count": 7,
      "outputs": []
    },
    {
      "cell_type": "code",
      "metadata": {
        "id": "fDQXchgQQ_UK"
      },
      "source": [
        "from  keras.utils import np_utils\n",
        "\n",
        "# Normalization labels\n",
        "\n",
        "train_labels = np_utils.to_categorical(train_labels) # by default num_classes = 10\n",
        "test_labels = np_utils.to_categorical(test_labels) # by default num_classes = 10\n",
        "# print(train_labels[0])"
      ],
      "execution_count": 8,
      "outputs": []
    },
    {
      "cell_type": "code",
      "metadata": {
        "id": "fReQy5VWGVUn"
      },
      "source": [
        "from tensorflow.keras.preprocessing.image import ImageDataGenerator\n",
        "\n",
        "from keras.preprocessing.image import ImageDataGenerator\n",
        "\n",
        "# Applying transformation to image\n",
        "generator_images_train = ImageDataGenerator(rotation_range=8, \n",
        "                               width_shift_range=0.08, \n",
        "                               shear_range=0.3,\n",
        "                               #rescale=1./255, \n",
        "                               height_shift_range=0.08, \n",
        "                               zoom_range=0.08 )\n",
        "generator_images_test = ImageDataGenerator()"
      ],
      "execution_count": 9,
      "outputs": []
    },
    {
      "cell_type": "code",
      "metadata": {
        "id": "W5hT7-1BRbK1"
      },
      "source": [
        "training_examples= generator_images_train.flow(train_examples, train_labels, batch_size=64)\n",
        "test_examples= generator_images_test.flow(test_examples, test_labels, batch_size=64)\n",
        "\n",
        "# print(\"training_examples shape\", training_examples.shape)\n",
        "# print(\"test_examples shape\", test_examples.shape)"
      ],
      "execution_count": 10,
      "outputs": []
    },
    {
      "cell_type": "code",
      "metadata": {
        "id": "jI_AAm8e2UfI"
      },
      "source": [
        "from tensorflow.keras import layers\n",
        "from tensorflow.keras import Model"
      ],
      "execution_count": 11,
      "outputs": []
    },
    {
      "cell_type": "code",
      "metadata": {
        "id": "Rb8a3Ppi4ZBl"
      },
      "source": [
        "from keras.layers import Conv2D, BatchNormalization\n",
        "\n",
        "# Implementation based on this papaer: https://arxiv.org/pdf/1502.03167.pdf\n",
        "\n",
        "# 28 x 28 matrix and 1 for normalization\n",
        "img_input = layers.Input(shape=(28, 28, 1)) \n",
        "\n",
        "    # First convolution \n",
        "\n",
        "# BatchNormalization according paper\n",
        "BatchNormalization(axis=-1)\n",
        "# 32 filters that are 3x3\n",
        "x = layers.Conv2D(32, 3, activation='relu')(img_input)\n",
        "# Max-pooling\n",
        "x = layers.MaxPooling2D(2)(x)\n",
        "\n",
        "    # Second convolution\n",
        "\n",
        "# BatchNormalization according paper\n",
        "BatchNormalization(axis=-1)\n",
        "# 64 filters that are 3x3\n",
        "x = layers.Conv2D(64, 3, activation='relu')(x)\n",
        "\n",
        "    # Third convolution\n",
        "\n",
        "# BatchNormalization according paper\n",
        "BatchNormalization(axis=-1)\n",
        "# 64 filters that are 3x3\n",
        "x = layers.Conv2D(64, 3, activation='relu')(x)\n",
        "# Max-pooling\n",
        "x = layers.MaxPooling2D(2)(x)"
      ],
      "execution_count": 12,
      "outputs": []
    },
    {
      "cell_type": "code",
      "metadata": {
        "id": "mgoklext5Fhn"
      },
      "source": [
        "x = layers.Flatten()(x)\n",
        "\n",
        "# BatchNormalization according paper\n",
        "BatchNormalization()\n",
        "x = layers.Dense(512, activation='relu')(x)\n",
        "\n",
        "# BatchNormalization according paper\n",
        "BatchNormalization()\n",
        "# Other activations: activation='sigmoid'\n",
        "output = layers.Dense(10, activation='softmax')(x)\n",
        "\n",
        "model = Model(img_input, output)"
      ],
      "execution_count": 13,
      "outputs": []
    },
    {
      "cell_type": "code",
      "metadata": {
        "colab": {
          "base_uri": "https://localhost:8080/"
        },
        "id": "bkmJeAK55jj7",
        "outputId": "419d3ffc-57aa-40ef-a161-dbe546efab20"
      },
      "source": [
        "model.summary()"
      ],
      "execution_count": 14,
      "outputs": [
        {
          "output_type": "stream",
          "text": [
            "Model: \"model\"\n",
            "_________________________________________________________________\n",
            "Layer (type)                 Output Shape              Param #   \n",
            "=================================================================\n",
            "input_1 (InputLayer)         [(None, 28, 28, 1)]       0         \n",
            "_________________________________________________________________\n",
            "conv2d (Conv2D)              (None, 26, 26, 32)        320       \n",
            "_________________________________________________________________\n",
            "max_pooling2d (MaxPooling2D) (None, 13, 13, 32)        0         \n",
            "_________________________________________________________________\n",
            "conv2d_1 (Conv2D)            (None, 11, 11, 64)        18496     \n",
            "_________________________________________________________________\n",
            "conv2d_2 (Conv2D)            (None, 9, 9, 64)          36928     \n",
            "_________________________________________________________________\n",
            "max_pooling2d_1 (MaxPooling2 (None, 4, 4, 64)          0         \n",
            "_________________________________________________________________\n",
            "flatten (Flatten)            (None, 1024)              0         \n",
            "_________________________________________________________________\n",
            "dense (Dense)                (None, 512)               524800    \n",
            "_________________________________________________________________\n",
            "dense_1 (Dense)              (None, 10)                5130      \n",
            "=================================================================\n",
            "Total params: 585,674\n",
            "Trainable params: 585,674\n",
            "Non-trainable params: 0\n",
            "_________________________________________________________________\n"
          ],
          "name": "stdout"
        }
      ]
    },
    {
      "cell_type": "code",
      "metadata": {
        "id": "0_FNsoZY57bB"
      },
      "source": [
        "from tensorflow.keras.optimizers import RMSprop #este ultimo algort de aprendizaj\n",
        "\n",
        "# Other optimizer: 'RMSprop(learning_rate=0.001)' 'Adagrad' 'tf.keras.optimizers.RMSprop(learning_rate=0.002)'\n",
        "# Other loss: 'binary_crossentropy' 'tf.keras.losses.SparseCategoricalCrossentropy(from_logits=True)' \n",
        "model.compile(optimizer='adam', \n",
        "              loss='categorical_crossentropy', \n",
        "              metrics=['acc']\n",
        "              )"
      ],
      "execution_count": 15,
      "outputs": []
    },
    {
      "cell_type": "code",
      "metadata": {
        "id": "sCE15gyrBIgu"
      },
      "source": [
        "from keras.callbacks import EarlyStopping\n",
        "\n",
        "# Searching the best\n",
        "# This is not completely necessary since We fix 5 epochs.\n",
        "early_stop = EarlyStopping( monitor='val_acc', \n",
        "                            mode='max', \n",
        "                            patience=3)"
      ],
      "execution_count": 16,
      "outputs": []
    },
    {
      "cell_type": "code",
      "metadata": {
        "colab": {
          "base_uri": "https://localhost:8080/"
        },
        "id": "sa_OfACG6fQt",
        "outputId": "100ba9fd-4b5e-405e-e331-e796cd8c2f50"
      },
      "source": [
        "history = model.fit(training_examples, \n",
        "                    validation_data = test_examples,\n",
        "                    epochs = 5,\n",
        "                    callbacks = [early_stop])"
      ],
      "execution_count": 17,
      "outputs": [
        {
          "output_type": "stream",
          "text": [
            "Epoch 1/5\n",
            "938/938 [==============================] - 20s 19ms/step - loss: 0.2031 - acc: 0.9357 - val_loss: 0.0428 - val_acc: 0.9851\n",
            "Epoch 2/5\n",
            "938/938 [==============================] - 17s 18ms/step - loss: 0.0670 - acc: 0.9789 - val_loss: 0.0253 - val_acc: 0.9918\n",
            "Epoch 3/5\n",
            "938/938 [==============================] - 17s 18ms/step - loss: 0.0495 - acc: 0.9844 - val_loss: 0.0204 - val_acc: 0.9934\n",
            "Epoch 4/5\n",
            "938/938 [==============================] - 17s 18ms/step - loss: 0.0402 - acc: 0.9874 - val_loss: 0.0261 - val_acc: 0.9910\n",
            "Epoch 5/5\n",
            "938/938 [==============================] - 17s 18ms/step - loss: 0.0371 - acc: 0.9886 - val_loss: 0.0250 - val_acc: 0.9911\n"
          ],
          "name": "stdout"
        }
      ]
    },
    {
      "cell_type": "code",
      "metadata": {
        "colab": {
          "base_uri": "https://localhost:8080/"
        },
        "id": "aFEXkoke1N2G",
        "outputId": "efed6f68-acff-4f0a-c195-40b6017b868b"
      },
      "source": [
        "model.evaluate(test_examples)"
      ],
      "execution_count": 18,
      "outputs": [
        {
          "output_type": "stream",
          "text": [
            "157/157 [==============================] - 1s 3ms/step - loss: 0.0250 - acc: 0.9911\n"
          ],
          "name": "stdout"
        },
        {
          "output_type": "execute_result",
          "data": {
            "text/plain": [
              "[0.02498568594455719, 0.991100013256073]"
            ]
          },
          "metadata": {
            "tags": []
          },
          "execution_count": 18
        }
      ]
    },
    {
      "cell_type": "code",
      "metadata": {
        "colab": {
          "base_uri": "https://localhost:8080/",
          "height": 452
        },
        "id": "XXfE0uGk1fRP",
        "outputId": "e4955800-3813-42bc-e001-f3013a35f3d5"
      },
      "source": [
        "# Testing neural network\n",
        "\n",
        "predictions = model.predict(test_examples1)\n",
        "answers = np.argmax(predictions,axis = 1) \n",
        "\n",
        "index_examples = []\n",
        "for i in range(12):\n",
        "  sp = plt.subplot(3,4,i+1)\n",
        "  sp.axis('Off')\n",
        "  num = random.randint(0, len(test_examples1))\n",
        "  index_examples.append(num)\n",
        "  plt.imshow(test_examples1[num], cmap='magma', interpolation='none')\n",
        "\n",
        "print (\"\\t\\t\\tNeural network guess\\n\")\n",
        "for i in [0,4,8]:\n",
        "  print(f\"|\\t{answers[index_examples[i]]} \\t| \\t{answers[index_examples[i+1]]} \\t| \\t{answers[index_examples[i+2]]} \\t| \\t{answers[index_examples[i+3]]}\\t|\\n\\n\")\n",
        "\n",
        "print (\"\\t\\tReal Images\")"
      ],
      "execution_count": 26,
      "outputs": [
        {
          "output_type": "stream",
          "text": [
            "\t\t\tNeural network guess\n",
            "\n",
            "|\t7 \t| \t4 \t| \t4 \t| \t0\t|\n",
            "\n",
            "\n",
            "|\t5 \t| \t5 \t| \t8 \t| \t7\t|\n",
            "\n",
            "\n",
            "|\t5 \t| \t9 \t| \t0 \t| \t0\t|\n",
            "\n",
            "\n",
            "\t\tReal Images\n"
          ],
          "name": "stdout"
        },
        {
          "output_type": "display_data",
          "data": {
            "image/png": "[encoded data removed]",
            "text/plain": [
              "<Figure size 432x288 with 12 Axes>"
            ]
          },
          "metadata": {
            "tags": [],
            "needs_background": "light"
          }
        }
      ]
    },
    {
      "cell_type": "code",
      "metadata": {
        "colab": {
          "base_uri": "https://localhost:8080/",
          "height": 867
        },
        "id": "Y4ZYKWIJIseR",
        "outputId": "776236a2-6102-43cc-c27f-1e105344f716"
      },
      "source": [
        "import tensorflow as tf\n",
        "\n",
        "# Evaluating confusion matrix\n",
        "res = tf.math.confusion_matrix(test_labels1,\n",
        "                               answers)\n",
        "\n",
        "# Printing the result\n",
        "res = res.numpy()\n",
        "fig, ax = plt.subplots(figsize=(15,15))\n",
        "ax.matshow(res, cmap=plt.cm.Pastel2)\n",
        "lbls = [0,1,2,3,4,5,6,7,8,9]\n",
        "for i in range(10):\n",
        "    for j in range(10):\n",
        "        c = res[j,i]\n",
        "        ax.text(i, j, str(c), va='center', ha='center')\n",
        "plt.xticks(range(10),['{} ({})'.format(lbls[i],i) for i in range(10)])\n",
        "plt.yticks(range(10),['{} ({})'.format(lbls[i],i) for i in range(10)])\n",
        "plt.show()"
      ],
      "execution_count": 20,
      "outputs": [
        {
          "output_type": "display_data",
          "data": {
            "image/png": "[encoded data removed]",
            "text/plain": [
              "<Figure size 1080x1080 with 1 Axes>"
            ]
          },
          "metadata": {
            "tags": [],
            "needs_background": "light"
          }
        }
      ]
    },
    {
      "cell_type": "code",
      "metadata": {
        "colab": {
          "base_uri": "https://localhost:8080/",
          "height": 562
        },
        "id": "GNP4hRJj8g1-",
        "outputId": "1bd28a98-4fd7-4520-cc74-02176cc701c0"
      },
      "source": [
        "# Retrieve a list of accuracy results on training and validation data\n",
        "# sets for each training epoch\n",
        "acc = history.history['acc']\n",
        "val_acc = history.history['val_acc']\n",
        "\n",
        "# Retrieve a list of list results on training and validation data\n",
        "# sets for each training epoch\n",
        "loss = history.history['loss']\n",
        "val_loss = history.history['val_loss']\n",
        "\n",
        "# Get number of epochs\n",
        "epochs = range(len(acc))\n",
        "\n",
        "# Plot training and validation accuracy per epoch\n",
        "plt.plot(epochs, acc)\n",
        "plt.plot(epochs, val_acc)\n",
        "plt.title('Training and validation accuracy')\n",
        "\n",
        "plt.figure()\n",
        "\n",
        "# Plot training and validation loss per epoch\n",
        "plt.plot(epochs, loss)\n",
        "plt.plot(epochs, val_loss)\n",
        "plt.title('Training and validation loss')"
      ],
      "execution_count": 21,
      "outputs": [
        {
          "output_type": "execute_result",
          "data": {
            "text/plain": [
              "Text(0.5, 1.0, 'Training and validation loss')"
            ]
          },
          "metadata": {
            "tags": []
          },
          "execution_count": 21
        },
        {
          "output_type": "display_data",
          "data": {
            "image/png": "[encoded data removed]",
            "text/plain": [
              "<Figure size 432x288 with 1 Axes>"
            ]
          },
          "metadata": {
            "tags": [],
            "needs_background": "light"
          }
        },
        {
          "output_type": "display_data",
          "data": {
            "image/png": "[encoded data removed]",
            "text/plain": [
              "<Figure size 432x288 with 1 Axes>"
            ]
          },
          "metadata": {
            "tags": [],
            "needs_background": "light"
          }
        }
      ]
    },
    {
      "cell_type": "code",
      "metadata": {
        "id": "A-KkKbOE8jr9"
      },
      "source": [
        "import os, signal\n",
        "os.kill(os.getpid(), signal.SIGKILL)"
      ],
      "execution_count": 22,
      "outputs": []
    }
  ]
}