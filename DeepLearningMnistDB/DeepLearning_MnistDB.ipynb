{
  "nbformat": 4,
  "nbformat_minor": 0,
  "metadata": {
    "colab": {
      "name": "DeepLearning_MnistDB.ipynb",
      "provenance": [],
      "collapsed_sections": [],
      "authorship_tag": "ABX9TyNV7q3e7dBEkU/CJ5UP5/Gb"
    },
    "kernelspec": {
      "name": "python3",
      "display_name": "Python 3"
    },
    "language_info": {
      "name": "python"
    },
    "accelerator": "GPU"
  },
  "cells": [
    {
      "cell_type": "code",
      "metadata": {
        "id": "lQ9colUloUBl"
      },
      "source": [
        "import os\n",
        "import matplotlib.pyplot as plt\n",
        "import pandas as pd\n",
        "import numpy as np\n",
        "import tensorflow as tf\n",
        "import random\n",
        "\n",
        "DATA_URL = 'https://storage.googleapis.com/tensorflow/tf-keras-datasets/mnist.npz'\n",
        "\n",
        "path = tf.keras.utils.get_file('mnist.npz', DATA_URL)\n",
        "with np.load(path) as data:\n",
        "  train_examples = data['x_train']\n",
        "  train_labels = data['y_train']\n",
        "  test_examples = data['x_test']\n",
        "  test_labels = data['y_test']\n",
        "\n",
        "# Copies to final test\n",
        "train_examples1 = train_examples\n",
        "train_labels1 = train_labels\n",
        "test_examples1 = test_examples\n",
        "test_labels1 = test_labels\n"
      ],
      "execution_count": 1,
      "outputs": []
    },
    {
      "cell_type": "code",
      "metadata": {
        "id": "w-LxNfQj2Kp7"
      },
      "source": [
        "#print(\"train_examples shape\", train_examples.shape)\n",
        "#print(\"train_labels shape\", train_labels.shape)\n",
        "#print(\"test_examples shape\", test_examples.shape)\n",
        "#print(\"test_labels shape\", test_labels.shape)"
      ],
      "execution_count": 2,
      "outputs": []
    },
    {
      "cell_type": "code",
      "metadata": {
        "colab": {
          "base_uri": "https://localhost:8080/",
          "height": 248
        },
        "id": "vY5D8rMdGwDK",
        "outputId": "846228bd-d5de-42b6-e81c-67c3fbebc203"
      },
      "source": [
        "for i in range(12):\n",
        "    sp = plt.subplot(3,4,i+1)\n",
        "    sp.axis('Off')\n",
        "    num = random.randint(0, len(train_examples))\n",
        "    plt.imshow(train_examples[num], cmap='magma', interpolation='none')"
      ],
      "execution_count": 3,
      "outputs": [
        {
          "output_type": "display_data",
          "data": {
            "image/png": "[encoded data removed]",
            "text/plain": [
              "<Figure size 432x288 with 12 Axes>"
            ]
          },
          "metadata": {
            "tags": [],
            "needs_background": "light"
          }
        }
      ]
    },
    {
      "cell_type": "code",
      "metadata": {
        "id": "mSwp3OIjQfpF"
      },
      "source": [
        "# Before normalization\n",
        "\n",
        "#train_examples[0][18]"
      ],
      "execution_count": 4,
      "outputs": []
    },
    {
      "cell_type": "code",
      "metadata": {
        "id": "ifiLQBcnMw3L"
      },
      "source": [
        "# Normalizing digits\n",
        "\n",
        "train_examples= train_examples.reshape(train_examples.shape[0], 28, 28, 1)\n",
        "train_examples = train_examples.astype('float32')\n",
        "train_examples/=255\n",
        "test_examples = test_examples.reshape(test_examples.shape[0],28,28,1)\n",
        "test_examples = test_examples.astype('float32')\n",
        "test_examples/=255\n",
        "#print(train_examples.shape)\n",
        "#print(test_examples.shape)"
      ],
      "execution_count": 5,
      "outputs": []
    },
    {
      "cell_type": "code",
      "metadata": {
        "id": "RTWZf9R7jX3u"
      },
      "source": [
        "# Before normalization\n",
        "\n",
        "#train_examples[0][18]"
      ],
      "execution_count": 6,
      "outputs": []
    },
    {
      "cell_type": "code",
      "metadata": {
        "id": "fDQXchgQQ_UK"
      },
      "source": [
        "from  keras.utils import np_utils\n",
        "\n",
        "# Normalization labels\n",
        "\n",
        "train_labels = np_utils.to_categorical(train_labels) # by default num_classes = 10\n",
        "test_labels = np_utils.to_categorical(test_labels) # by default num_classes = 10\n",
        "#print(train_labels[0])"
      ],
      "execution_count": 7,
      "outputs": []
    },
    {
      "cell_type": "code",
      "metadata": {
        "id": "fReQy5VWGVUn"
      },
      "source": [
        "from tensorflow.keras.preprocessing.image import ImageDataGenerator\n",
        "\n",
        "from keras.preprocessing.image import ImageDataGenerator\n",
        "# applying transformation to image\n",
        "generator_images_train = ImageDataGenerator(rotation_range=8, \n",
        "                               width_shift_range=0.08, \n",
        "                               shear_range=0.3,\n",
        "                               #rescale=1./255, \n",
        "                               height_shift_range=0.08, \n",
        "                               zoom_range=0.08 )\n",
        "generator_images_test = ImageDataGenerator()"
      ],
      "execution_count": 8,
      "outputs": []
    },
    {
      "cell_type": "code",
      "metadata": {
        "id": "W5hT7-1BRbK1"
      },
      "source": [
        "training_examples= generator_images_train.flow(train_examples, train_labels, batch_size=64)\n",
        "test_examples= generator_images_test.flow(test_examples, test_labels, batch_size=64)\n",
        "\n",
        "#print(\"training_examples shape\", training_examples.shape)\n",
        "#print(\"test_examples shape\", test_examples.shape)"
      ],
      "execution_count": 9,
      "outputs": []
    },
    {
      "cell_type": "code",
      "metadata": {
        "id": "jI_AAm8e2UfI"
      },
      "source": [
        "from tensorflow.keras import layers\n",
        "from tensorflow.keras import Model"
      ],
      "execution_count": 10,
      "outputs": []
    },
    {
      "cell_type": "code",
      "metadata": {
        "id": "Rb8a3Ppi4ZBl"
      },
      "source": [
        "from keras.layers import Conv2D, BatchNormalization\n",
        "\n",
        "# Implementation based on this papaer: https://arxiv.org/pdf/1502.03167.pdf\n",
        "\n",
        "img_input = layers.Input(shape=(28, 28, 1)) # 28 x 28 matrix and 1 for normalization\n",
        "\n",
        "    # First convolution extracts 32 filters that are 3x3\n",
        "\n",
        "# BatchNormalization according paper\n",
        "BatchNormalization(axis=-1)\n",
        "# 32 filters that are 3x3\n",
        "x = layers.Conv2D(32, 3, activation='relu')(img_input)\n",
        "# Max-pooling\n",
        "x = layers.MaxPooling2D(2)(x)\n",
        "\n",
        "    # Second convolution extracts 64 filters that are 3x3\n",
        "\n",
        "# BatchNormalization according paper\n",
        "BatchNormalization(axis=-1)\n",
        "# 64 filters that are 3x3\n",
        "x = layers.Conv2D(64, 3, activation='relu')(x)\n",
        "\n",
        "    # Third convolution extracts 64 filters that are 3x3\n",
        "\n",
        "# BatchNormalization according paper\n",
        "BatchNormalization(axis=-1)\n",
        "# 64 filters that are 3x3\n",
        "x = layers.Conv2D(64, 3, activation='relu')(x)\n",
        "# Max-pooling\n",
        "x = layers.MaxPooling2D(2)(x)"
      ],
      "execution_count": 11,
      "outputs": []
    },
    {
      "cell_type": "code",
      "metadata": {
        "id": "mgoklext5Fhn"
      },
      "source": [
        "x = layers.Flatten()(x)\n",
        "\n",
        "# BatchNormalization according paper\n",
        "BatchNormalization()\n",
        "x = layers.Dense(512, activation='relu')(x)\n",
        "\n",
        "# BatchNormalization according paper\n",
        "BatchNormalization()\n",
        "# Other activations: activation='sigmoid'\n",
        "output = layers.Dense(10, activation='softmax')(x)\n",
        "\n",
        "model = Model(img_input, output)"
      ],
      "execution_count": 12,
      "outputs": []
    },
    {
      "cell_type": "code",
      "metadata": {
        "id": "bkmJeAK55jj7"
      },
      "source": [
        "model.summary()"
      ],
      "execution_count": null,
      "outputs": []
    },
    {
      "cell_type": "code",
      "metadata": {
        "id": "0_FNsoZY57bB"
      },
      "source": [
        "from tensorflow.keras.optimizers import RMSprop #este ultimo algort de aprendizaj\n",
        "\n",
        "#Other optimizer: 'RMSprop(learning_rate=0.001)' 'Adagrad' 'tf.keras.optimizers.RMSprop(learning_rate=0.002)'\n",
        "#Other loss: 'binary_crossentropy' 'tf.keras.losses.SparseCategoricalCrossentropy(from_logits=True)' \n",
        "#model.compile(optimizer=, \n",
        "model.compile(optimizer='adam', \n",
        "              loss='categorical_crossentropy', \n",
        "              metrics=['acc'])"
      ],
      "execution_count": 14,
      "outputs": []
    },
    {
      "cell_type": "code",
      "metadata": {
        "id": "sCE15gyrBIgu"
      },
      "source": [
        "from keras.callbacks import EarlyStopping\n",
        "\n",
        "# Searching the best\n",
        "\n",
        "early_stop = EarlyStopping( monitor='val_acc', \n",
        "                            mode='max', \n",
        "                            patience=3)"
      ],
      "execution_count": 15,
      "outputs": []
    },
    {
      "cell_type": "code",
      "metadata": {
        "colab": {
          "base_uri": "https://localhost:8080/"
        },
        "id": "sa_OfACG6fQt",
        "outputId": "66e6ef8c-284b-4bd8-b583-609b42e7a271"
      },
      "source": [
        "history = model.fit(training_examples, \n",
        "                    validation_data = test_examples,\n",
        "                    epochs = 10,\n",
        "                    callbacks = [early_stop])"
      ],
      "execution_count": 16,
      "outputs": [
        {
          "output_type": "stream",
          "text": [
            "Epoch 1/10\n",
            "938/938 [==============================] - 20s 18ms/step - loss: 0.2125 - acc: 0.9328 - val_loss: 0.0406 - val_acc: 0.9867\n",
            "Epoch 2/10\n",
            "938/938 [==============================] - 17s 18ms/step - loss: 0.0702 - acc: 0.9784 - val_loss: 0.0359 - val_acc: 0.9880\n",
            "Epoch 3/10\n",
            "938/938 [==============================] - 17s 18ms/step - loss: 0.0501 - acc: 0.9847 - val_loss: 0.0265 - val_acc: 0.9907\n",
            "Epoch 4/10\n",
            "938/938 [==============================] - 17s 18ms/step - loss: 0.0424 - acc: 0.9870 - val_loss: 0.0290 - val_acc: 0.9905\n",
            "Epoch 5/10\n",
            "938/938 [==============================] - 17s 18ms/step - loss: 0.0355 - acc: 0.9892 - val_loss: 0.0243 - val_acc: 0.9924\n",
            "Epoch 6/10\n",
            "938/938 [==============================] - 17s 18ms/step - loss: 0.0334 - acc: 0.9896 - val_loss: 0.0208 - val_acc: 0.9930\n",
            "Epoch 7/10\n",
            "938/938 [==============================] - 17s 18ms/step - loss: 0.0293 - acc: 0.9908 - val_loss: 0.0236 - val_acc: 0.9921\n",
            "Epoch 8/10\n",
            "938/938 [==============================] - 17s 18ms/step - loss: 0.0265 - acc: 0.9913 - val_loss: 0.0217 - val_acc: 0.9933\n",
            "Epoch 9/10\n",
            "938/938 [==============================] - 17s 18ms/step - loss: 0.0257 - acc: 0.9917 - val_loss: 0.0195 - val_acc: 0.9944\n",
            "Epoch 10/10\n",
            "938/938 [==============================] - 17s 18ms/step - loss: 0.0221 - acc: 0.9931 - val_loss: 0.0202 - val_acc: 0.9939\n"
          ],
          "name": "stdout"
        }
      ]
    },
    {
      "cell_type": "code",
      "metadata": {
        "colab": {
          "base_uri": "https://localhost:8080/"
        },
        "id": "aFEXkoke1N2G",
        "outputId": "2fd795bb-2c89-4db0-e12c-1af4f22d215a"
      },
      "source": [
        "model.evaluate(test_examples)"
      ],
      "execution_count": 17,
      "outputs": [
        {
          "output_type": "stream",
          "text": [
            "157/157 [==============================] - 1s 3ms/step - loss: 0.0202 - acc: 0.9939\n"
          ],
          "name": "stdout"
        },
        {
          "output_type": "execute_result",
          "data": {
            "text/plain": [
              "[0.020182404667139053, 0.9939000010490417]"
            ]
          },
          "metadata": {
            "tags": []
          },
          "execution_count": 17
        }
      ]
    },
    {
      "cell_type": "code",
      "metadata": {
        "colab": {
          "base_uri": "https://localhost:8080/",
          "height": 401
        },
        "id": "XXfE0uGk1fRP",
        "outputId": "f41a444b-8fac-4c5c-e783-7d9e4c11ce54"
      },
      "source": [
        "# TESTING\n",
        "#predictions = model.predict(train_examples1)\n",
        "predictions = model.predict(test_examples1)\n",
        "answers = np.argmax(predictions,axis = 1) \n",
        "\n",
        "index_examples = []\n",
        "for i in range(12):\n",
        "    sp = plt.subplot(3,4,i+1)\n",
        "    sp.axis('Off')\n",
        "    num = random.randint(0, len(test_examples1))\n",
        "    index_examples.append(num)\n",
        "    plt.imshow(test_examples1[num], cmap='magma', interpolation='none')\n",
        "\n",
        "for i in [0,4,8]:\n",
        "  print(f\"|\\t{answers[index_examples[i]]} \\t| \\t{answers[index_examples[i+1]]} \\t| \\t{answers[index_examples[i+2]]} \\t| \\t{answers[index_examples[i+3]]}\\t|\\n\\n\")"
      ],
      "execution_count": 18,
      "outputs": [
        {
          "output_type": "stream",
          "text": [
            "|\t9 \t| \t2 \t| \t3 \t| \t0\t|\n",
            "\n",
            "\n",
            "|\t2 \t| \t4 \t| \t7 \t| \t2\t|\n",
            "\n",
            "\n",
            "|\t4 \t| \t6 \t| \t9 \t| \t9\t|\n",
            "\n",
            "\n"
          ],
          "name": "stdout"
        },
        {
          "output_type": "display_data",
          "data": {
            "image/png": "[encoded data removed]",
            "text/plain": [
              "<Figure size 432x288 with 12 Axes>"
            ]
          },
          "metadata": {
            "tags": [],
            "needs_background": "light"
          }
        }
      ]
    },
    {
      "cell_type": "code",
      "metadata": {
        "colab": {
          "base_uri": "https://localhost:8080/",
          "height": 562
        },
        "id": "GNP4hRJj8g1-",
        "outputId": "d2f63bb7-ea5e-4e74-8da0-e9b227e233a4"
      },
      "source": [
        "# Retrieve a list of accuracy results on training and validation data\n",
        "# sets for each training epoch\n",
        "acc = history.history['acc']\n",
        "val_acc = history.history['val_acc']\n",
        "\n",
        "# Retrieve a list of list results on training and validation data\n",
        "# sets for each training epoch\n",
        "loss = history.history['loss']\n",
        "val_loss = history.history['val_loss']\n",
        "\n",
        "# Get number of epochs\n",
        "epochs = range(len(acc))\n",
        "\n",
        "# Plot training and validation accuracy per epoch\n",
        "plt.plot(epochs, acc)\n",
        "plt.plot(epochs, val_acc)\n",
        "plt.title('Training and validation accuracy')\n",
        "\n",
        "plt.figure()\n",
        "\n",
        "# Plot training and validation loss per epoch\n",
        "plt.plot(epochs, loss)\n",
        "plt.plot(epochs, val_loss)\n",
        "plt.title('Training and validation loss')"
      ],
      "execution_count": 19,
      "outputs": [
        {
          "output_type": "execute_result",
          "data": {
            "text/plain": [
              "Text(0.5, 1.0, 'Training and validation loss')"
            ]
          },
          "metadata": {
            "tags": []
          },
          "execution_count": 19
        },
        {
          "output_type": "display_data",
          "data": {
            "image/png": "[encoded data removed]",
            "text/plain": [
              "<Figure size 432x288 with 1 Axes>"
            ]
          },
          "metadata": {
            "tags": [],
            "needs_background": "light"
          }
        },
        {
          "output_type": "display_data",
          "data": {
            "image/png": "[encoded data removed]",
            "text/plain": [
              "<Figure size 432x288 with 1 Axes>"
            ]
          },
          "metadata": {
            "tags": [],
            "needs_background": "light"
          }
        }
      ]
    },
    {
      "cell_type": "code",
      "metadata": {
        "id": "A-KkKbOE8jr9"
      },
      "source": [
        "import os, signal\n",
        "os.kill(os.getpid(), signal.SIGKILL)"
      ],
      "execution_count": null,
      "outputs": []
    }
  ]
}