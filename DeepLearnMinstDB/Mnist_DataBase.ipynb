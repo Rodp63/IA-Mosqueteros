{
  "nbformat": 4,
  "nbformat_minor": 0,
  "metadata": {
    "colab": {
      "name": "Mnist_DataBase.ipynb",
      "provenance": [],
      "toc_visible": true,
      "authorship_tag": "ABX9TyOLIA+Uei8R4lH+tTS9OlYb",
      "include_colab_link": true
    },
    "kernelspec": {
      "name": "python3",
      "display_name": "Python 3"
    },
    "language_info": {
      "name": "python"
    },
    "accelerator": "GPU"
  },
  "cells": [
    {
      "cell_type": "markdown",
      "metadata": {
        "id": "view-in-github",
        "colab_type": "text"
      },
      "source": [
        "<a href=\"https://colab.research.google.com/github/BasicAlgorithm/IA-Mosqueteros/blob/DeepLearningMinstDB/DeepLearnMinstDB/Mnist_DataBase.ipynb\" target=\"_parent\"><img src=\"https://colab.research.google.com/assets/colab-badge.svg\" alt=\"Open In Colab\"/></a>"
      ]
    },
    {
      "cell_type": "code",
      "metadata": {
        "id": "lQ9colUloUBl"
      },
      "source": [
        "import os\n",
        "import matplotlib.pyplot as plt\n",
        "import pandas as pd\n",
        "import numpy as np\n",
        "import tensorflow as tf\n",
        "import random\n",
        "\n",
        "DATA_URL = 'https://storage.googleapis.com/tensorflow/tf-keras-datasets/mnist.npz'\n",
        "\n",
        "path = tf.keras.utils.get_file('mnist.npz', DATA_URL)\n",
        "with np.load(path) as data:\n",
        "  train_examples = data['x_train']\n",
        "  train_labels = data['y_train']\n",
        "  test_examples = data['x_test']\n",
        "  test_labels = data['y_test']\n",
        "\n",
        "# Copies to final test\n",
        "train_examples1 = train_examples\n",
        "train_labels1 = train_labels\n",
        "test_examples1 = test_examples\n",
        "test_labels1 = test_labels\n"
      ],
      "execution_count": 52,
      "outputs": []
    },
    {
      "cell_type": "code",
      "metadata": {
        "id": "w-LxNfQj2Kp7"
      },
      "source": [
        "#print(\"train_examples shape\", train_examples.shape)\n",
        "#print(\"train_labels shape\", train_labels.shape)\n",
        "#print(\"test_examples shape\", test_examples.shape)\n",
        "#print(\"test_labels shape\", test_labels.shape)"
      ],
      "execution_count": 53,
      "outputs": []
    },
    {
      "cell_type": "code",
      "metadata": {
        "colab": {
          "base_uri": "https://localhost:8080/",
          "height": 248
        },
        "id": "vY5D8rMdGwDK",
        "outputId": "93acf5eb-491e-4ca3-f13b-9cd160e22d92"
      },
      "source": [
        "for i in range(12):\n",
        "    sp = plt.subplot(3,4,i+1)\n",
        "    sp.axis('Off')\n",
        "    num = random.randint(0, len(train_examples))\n",
        "    plt.imshow(train_examples[num], cmap='magma', interpolation='none')"
      ],
      "execution_count": 54,
      "outputs": [
        {
          "output_type": "display_data",
          "data": {
            "image/png": "[encoded data removed]",
            "text/plain": [
              "<Figure size 432x288 with 12 Axes>"
            ]
          },
          "metadata": {
            "tags": [],
            "needs_background": "light"
          }
        }
      ]
    },
    {
      "cell_type": "code",
      "metadata": {
        "id": "mSwp3OIjQfpF"
      },
      "source": [
        "# Before normalization\n",
        "\n",
        "#train_examples[0][18]"
      ],
      "execution_count": 55,
      "outputs": []
    },
    {
      "cell_type": "code",
      "metadata": {
        "id": "ifiLQBcnMw3L"
      },
      "source": [
        "# Normalizing digits\n",
        "\n",
        "train_examples= train_examples.reshape(train_examples.shape[0], 28, 28, 1)\n",
        "train_examples = train_examples.astype('float32')\n",
        "train_examples/=255\n",
        "test_examples = test_examples.reshape(test_examples.shape[0],28,28,1)\n",
        "test_examples = test_examples.astype('float32')\n",
        "test_examples/=255\n",
        "#print(train_examples.shape)\n",
        "#print(test_examples.shape)"
      ],
      "execution_count": 56,
      "outputs": []
    },
    {
      "cell_type": "code",
      "metadata": {
        "id": "RTWZf9R7jX3u"
      },
      "source": [
        "# Before normalization\n",
        "\n",
        "#train_examples[0][18]"
      ],
      "execution_count": 57,
      "outputs": []
    },
    {
      "cell_type": "code",
      "metadata": {
        "id": "fDQXchgQQ_UK"
      },
      "source": [
        "from  keras.utils import np_utils\n",
        "\n",
        "# Normalization labels\n",
        "\n",
        "train_labels = np_utils.to_categorical(train_labels) # by default num_classes = 10\n",
        "test_labels = np_utils.to_categorical(test_labels) # by default num_classes = 10\n",
        "#print(train_labels[0])"
      ],
      "execution_count": 58,
      "outputs": []
    },
    {
      "cell_type": "code",
      "metadata": {
        "id": "fReQy5VWGVUn"
      },
      "source": [
        "from tensorflow.keras.preprocessing.image import ImageDataGenerator\n",
        "\n",
        "from keras.preprocessing.image import ImageDataGenerator\n",
        "# applying transformation to image\n",
        "generator_images_train = ImageDataGenerator(rotation_range=8, \n",
        "                               width_shift_range=0.08, \n",
        "                               shear_range=0.3,\n",
        "                               #rescale=1./255, \n",
        "                               height_shift_range=0.08, \n",
        "                               zoom_range=0.08 )\n",
        "generator_images_test = ImageDataGenerator()"
      ],
      "execution_count": 59,
      "outputs": []
    },
    {
      "cell_type": "code",
      "metadata": {
        "id": "W5hT7-1BRbK1"
      },
      "source": [
        "training_examples= generator_images_train.flow(train_examples, train_labels, batch_size=64)\n",
        "test_examples= generator_images_test.flow(test_examples, test_labels, batch_size=64)\n",
        "\n",
        "#print(\"training_examples shape\", training_examples.shape)\n",
        "#print(\"test_examples shape\", test_examples.shape)"
      ],
      "execution_count": 60,
      "outputs": []
    },
    {
      "cell_type": "code",
      "metadata": {
        "id": "jI_AAm8e2UfI"
      },
      "source": [
        "from tensorflow.keras import layers\n",
        "from tensorflow.keras import Model"
      ],
      "execution_count": 61,
      "outputs": []
    },
    {
      "cell_type": "code",
      "metadata": {
        "id": "Rb8a3Ppi4ZBl"
      },
      "source": [
        "from keras.layers import Conv2D, BatchNormalization\n",
        "\n",
        "img_input = layers.Input(shape=(28, 28, 1)) # 3 matrix 150x150\n",
        "\n",
        "# First convolution extracts 32 filters that are 3x3\n",
        "x = layers.Conv2D(32, 3, activation='relu')(img_input)\n",
        "# BatchNormalization according paper\n",
        "BatchNormalization(axis=-1)\n",
        "# Convolution is followed by max-pooling layer with a 2x2 window\n",
        "x = layers.MaxPooling2D(2)(x)\n",
        "\n",
        "# Second convolution extracts 64 filters that are 3x3\n",
        "x = layers.Conv2D(64, 3, activation='relu')(x)\n",
        "# BatchNormalization according paper\n",
        "BatchNormalization(axis=-1)\n",
        "\n",
        "# Third convolution extracts 64 filters that are 3x3\n",
        "x = layers.Conv2D(64, 3, activation='relu')(x)\n",
        "# Convolution is followed by max-pooling layer with a 2x2 window\n",
        "x = layers.MaxPooling2D(2)(x)"
      ],
      "execution_count": 62,
      "outputs": []
    },
    {
      "cell_type": "code",
      "metadata": {
        "id": "mgoklext5Fhn"
      },
      "source": [
        "x = layers.Flatten()(x)\n",
        "# BatchNormalization according paper\n",
        "BatchNormalization()\n",
        "\n",
        "x = layers.Dense(512, activation='relu')(x)\n",
        "# BatchNormalization according paper\n",
        "BatchNormalization()\n",
        "\n",
        "# Other activations: activation='sigmoid'\n",
        "output = layers.Dense(10, activation='softmax')(x)\n",
        "\n",
        "model = Model(img_input, output)"
      ],
      "execution_count": 63,
      "outputs": []
    },
    {
      "cell_type": "code",
      "metadata": {
        "colab": {
          "base_uri": "https://localhost:8080/"
        },
        "id": "bkmJeAK55jj7",
        "outputId": "91d00dcc-ae2e-4a53-8316-8c6628183229"
      },
      "source": [
        "model.summary()"
      ],
      "execution_count": 64,
      "outputs": [
        {
          "output_type": "stream",
          "text": [
            "Model: \"model_2\"\n",
            "_________________________________________________________________\n",
            "Layer (type)                 Output Shape              Param #   \n",
            "=================================================================\n",
            "input_3 (InputLayer)         [(None, 28, 28, 1)]       0         \n",
            "_________________________________________________________________\n",
            "conv2d_6 (Conv2D)            (None, 26, 26, 32)        320       \n",
            "_________________________________________________________________\n",
            "max_pooling2d_4 (MaxPooling2 (None, 13, 13, 32)        0         \n",
            "_________________________________________________________________\n",
            "conv2d_7 (Conv2D)            (None, 11, 11, 64)        18496     \n",
            "_________________________________________________________________\n",
            "conv2d_8 (Conv2D)            (None, 9, 9, 64)          36928     \n",
            "_________________________________________________________________\n",
            "max_pooling2d_5 (MaxPooling2 (None, 4, 4, 64)          0         \n",
            "_________________________________________________________________\n",
            "flatten_2 (Flatten)          (None, 1024)              0         \n",
            "_________________________________________________________________\n",
            "dense_4 (Dense)              (None, 512)               524800    \n",
            "_________________________________________________________________\n",
            "dense_5 (Dense)              (None, 10)                5130      \n",
            "=================================================================\n",
            "Total params: 585,674\n",
            "Trainable params: 585,674\n",
            "Non-trainable params: 0\n",
            "_________________________________________________________________\n"
          ],
          "name": "stdout"
        }
      ]
    },
    {
      "cell_type": "code",
      "metadata": {
        "id": "0_FNsoZY57bB"
      },
      "source": [
        "from tensorflow.keras.optimizers import RMSprop #este ultimo algort de aprendizaj\n",
        "\n",
        "#Other optimizer: 'RMSprop(learning_rate=0.001)' 'Adagrad' 'tf.keras.optimizers.RMSprop(learning_rate=0.002)'\n",
        "#Other loss: 'binary_crossentropy' 'tf.keras.losses.SparseCategoricalCrossentropy(from_logits=True)' \n",
        "#model.compile(optimizer=, \n",
        "model.compile(optimizer='adam', \n",
        "              loss='categorical_crossentropy', \n",
        "              metrics=['acc'])"
      ],
      "execution_count": 65,
      "outputs": []
    },
    {
      "cell_type": "code",
      "metadata": {
        "id": "sCE15gyrBIgu"
      },
      "source": [
        "from keras.callbacks import EarlyStopping\n",
        "\n",
        "# Searching the best\n",
        "\n",
        "early_stop = EarlyStopping( monitor='val_acc', \n",
        "                            mode='max', \n",
        "                            patience=5)"
      ],
      "execution_count": 66,
      "outputs": []
    },
    {
      "cell_type": "code",
      "metadata": {
        "colab": {
          "base_uri": "https://localhost:8080/"
        },
        "id": "sa_OfACG6fQt",
        "outputId": "c36f6d69-a751-4223-eb7c-e585aee8ede9"
      },
      "source": [
        "history = model.fit(training_examples, \n",
        "                    validation_data = test_examples,\n",
        "                    epochs = 5,\n",
        "                    callbacks = [early_stop])"
      ],
      "execution_count": 67,
      "outputs": [
        {
          "output_type": "stream",
          "text": [
            "Epoch 1/5\n",
            "938/938 [==============================] - 98s 104ms/step - loss: 0.2150 - acc: 0.9337 - val_loss: 0.0524 - val_acc: 0.9831\n",
            "Epoch 2/5\n",
            "938/938 [==============================] - 98s 104ms/step - loss: 0.0673 - acc: 0.9789 - val_loss: 0.0262 - val_acc: 0.9920\n",
            "Epoch 3/5\n",
            "938/938 [==============================] - 97s 104ms/step - loss: 0.0501 - acc: 0.9843 - val_loss: 0.0211 - val_acc: 0.9935\n",
            "Epoch 4/5\n",
            "938/938 [==============================] - 98s 104ms/step - loss: 0.0414 - acc: 0.9873 - val_loss: 0.0255 - val_acc: 0.9915\n",
            "Epoch 5/5\n",
            "938/938 [==============================] - 97s 104ms/step - loss: 0.0365 - acc: 0.9887 - val_loss: 0.0210 - val_acc: 0.9930\n"
          ],
          "name": "stdout"
        }
      ]
    },
    {
      "cell_type": "code",
      "metadata": {
        "colab": {
          "base_uri": "https://localhost:8080/"
        },
        "id": "aFEXkoke1N2G",
        "outputId": "156266cd-9cf1-4cab-fd8e-7110a5a97fe0"
      },
      "source": [
        "model.evaluate(test_examples)"
      ],
      "execution_count": 68,
      "outputs": [
        {
          "output_type": "stream",
          "text": [
            "157/157 [==============================] - 4s 23ms/step - loss: 0.0210 - acc: 0.9930\n"
          ],
          "name": "stdout"
        },
        {
          "output_type": "execute_result",
          "data": {
            "text/plain": [
              "[0.02097465842962265, 0.9929999709129333]"
            ]
          },
          "metadata": {
            "tags": []
          },
          "execution_count": 68
        }
      ]
    },
    {
      "cell_type": "code",
      "metadata": {
        "colab": {
          "base_uri": "https://localhost:8080/",
          "height": 401
        },
        "id": "XXfE0uGk1fRP",
        "outputId": "563e9dde-57f1-40ca-fa3f-d1e374f77bb9"
      },
      "source": [
        "# TESTING\n",
        "#predictions = model.predict(train_examples1)\n",
        "predictions = model.predict(test_examples1)\n",
        "answers = np.argmax(predictions,axis = 1) \n",
        "\n",
        "index_examples = []\n",
        "for i in range(12):\n",
        "    sp = plt.subplot(3,4,i+1)\n",
        "    sp.axis('Off')\n",
        "    num = random.randint(0, len(test_examples1))\n",
        "    index_examples.append(num)\n",
        "    plt.imshow(test_examples1[num], cmap='magma', interpolation='none')\n",
        "\n",
        "for i in [0,4,8]:\n",
        "  print(f\"|\\t{answers[index_examples[i]]} \\t| \\t{answers[index_examples[i+1]]} \\t| \\t{answers[index_examples[i+2]]} \\t| \\t{answers[index_examples[i+3]]}\\t|\\n\\n\")"
      ],
      "execution_count": 70,
      "outputs": [
        {
          "output_type": "stream",
          "text": [
            "|\t5 \t| \t7 \t| \t6 \t| \t7\t|\n",
            "\n",
            "\n",
            "|\t9 \t| \t4 \t| \t4 \t| \t8\t|\n",
            "\n",
            "\n",
            "|\t7 \t| \t6 \t| \t1 \t| \t8\t|\n",
            "\n",
            "\n"
          ],
          "name": "stdout"
        },
        {
          "output_type": "display_data",
          "data": {
            "image/png": "[encoded data removed]",
            "text/plain": [
              "<Figure size 432x288 with 12 Axes>"
            ]
          },
          "metadata": {
            "tags": [],
            "needs_background": "light"
          }
        }
      ]
    },
    {
      "cell_type": "code",
      "metadata": {
        "colab": {
          "base_uri": "https://localhost:8080/",
          "height": 562
        },
        "id": "GNP4hRJj8g1-",
        "outputId": "e973229c-aece-4f94-e222-b923e57c8b07"
      },
      "source": [
        "# Retrieve a list of accuracy results on training and validation data\n",
        "# sets for each training epoch\n",
        "acc = history.history['acc']\n",
        "val_acc = history.history['val_acc']\n",
        "\n",
        "# Retrieve a list of list results on training and validation data\n",
        "# sets for each training epoch\n",
        "loss = history.history['loss']\n",
        "val_loss = history.history['val_loss']\n",
        "\n",
        "# Get number of epochs\n",
        "epochs = range(len(acc))\n",
        "\n",
        "# Plot training and validation accuracy per epoch\n",
        "plt.plot(epochs, acc)\n",
        "plt.plot(epochs, val_acc)\n",
        "plt.title('Training and validation accuracy')\n",
        "\n",
        "plt.figure()\n",
        "\n",
        "# Plot training and validation loss per epoch\n",
        "plt.plot(epochs, loss)\n",
        "plt.plot(epochs, val_loss)\n",
        "plt.title('Training and validation loss')"
      ],
      "execution_count": 71,
      "outputs": [
        {
          "output_type": "execute_result",
          "data": {
            "text/plain": [
              "Text(0.5, 1.0, 'Training and validation loss')"
            ]
          },
          "metadata": {
            "tags": []
          },
          "execution_count": 71
        },
        {
          "output_type": "display_data",
          "data": {
            "image/png": "[encoded data removed]",
            "text/plain": [
              "<Figure size 432x288 with 1 Axes>"
            ]
          },
          "metadata": {
            "tags": [],
            "needs_background": "light"
          }
        },
        {
          "output_type": "display_data",
          "data": {
            "image/png": "[encoded data removed]",
            "text/plain": [
              "<Figure size 432x288 with 1 Axes>"
            ]
          },
          "metadata": {
            "tags": [],
            "needs_background": "light"
          }
        }
      ]
    },
    {
      "cell_type": "code",
      "metadata": {
        "id": "A-KkKbOE8jr9"
      },
      "source": [
        "import os, signal\n",
        "os.kill(os.getpid(), signal.SIGKILL)"
      ],
      "execution_count": null,
      "outputs": []
    }
  ]
}